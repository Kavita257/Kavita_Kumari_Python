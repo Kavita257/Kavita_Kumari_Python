{
 "cells": [
  {
   "cell_type": "markdown",
   "id": "f5f8330d",
   "metadata": {},
   "source": [
    "# Section 1"
   ]
  },
  {
   "cell_type": "code",
   "execution_count": 1,
   "id": "806d0060",
   "metadata": {},
   "outputs": [],
   "source": [
    "import pandas as pd\n",
    "import numpy as np\n",
    "import seaborn as sns\n",
    "import matplotlib.pyplot as plt"
   ]
  },
  {
   "cell_type": "markdown",
   "id": "75b7e913",
   "metadata": {},
   "source": [
    "1. A statistics test was conducted for 10 learners in a class. The mean of their score is 85 and the variance of the score is zero. What can you interpret about the score obtained by all learners?"
   ]
  },
  {
   "cell_type": "markdown",
   "id": "37e3fbb1",
   "metadata": {},
   "source": [
    "Answer: If the variance of the score is zero then the scores obtained by each learner in the test is equal to 85."
   ]
  },
  {
   "cell_type": "markdown",
   "id": "6e4dd5bf",
   "metadata": {},
   "source": [
    "2. In a residential locality, the mean size of the house is 2224 square feet and the median value of the house is 1500 square feet. What can you interpret about the skewness in the distribution of house size? Are there bigger or smaller houses in the residential locality?"
   ]
  },
  {
   "cell_type": "markdown",
   "id": "28e09fa0",
   "metadata": {},
   "source": [
    "Answer : As mentioned mean is 2224 which is greater then the median 1500 hence, the skewness would be Right(Positively) skewed which also indicates that there are bigger houses in the residential locality."
   ]
  },
  {
   "cell_type": "markdown",
   "id": "d034353b",
   "metadata": {},
   "source": [
    "3. The following table shows the mean and variance of the expenditure for two groups of people.You want to compare the variability in expenditure for both groups with respect to their mean. Which statistical measure would you use to evaluate the variability in expenditure? Please provide an explanation for your answer."
   ]
  },
  {
   "cell_type": "markdown",
   "id": "32b5cfc4",
   "metadata": {},
   "source": [
    "\n",
    "\n",
    "\n",
    "\n"
   ]
  },
  {
   "cell_type": "markdown",
   "id": "8cd1365b",
   "metadata": {},
   "source": [
    "                                     Expenditure    Group 1     Group 2\n",
    "                                    0 Mean           $500,000     $40,000\n",
    "                                    1 Standard Devi. $1,25000     $10,000 "
   ]
  },
  {
   "cell_type": "code",
   "execution_count": 9,
   "id": "ee2293a2",
   "metadata": {},
   "outputs": [
    {
     "name": "stdout",
     "output_type": "stream",
     "text": [
      "Group 1: Mean = $500000, Standard Deviation = $125000, CV = 25.00%\n",
      "Group 2: Mean = $40000, Standard Deviation = $10000, CV = 25.00%\n",
      "Both groups have the same relative variability in expenditure.\n"
     ]
    }
   ],
   "source": [
    "# Answer: Coefficient of Variance would be the statistical measure which would be used to evaluate the variablity.\n",
    "\n",
    "Mean1, std_dev1 = 500000, 125000\n",
    "Mean2, std_dev2 = [40000, 10000]\n",
    "\n",
    "CV1 = (std_dev1/Mean1)*100\n",
    "CV2 = (std_dev2/Mean2)*100\n",
    "\n",
    "print(f\"Group 1: Mean = ${Mean1}, Standard Deviation = ${std_dev1}, CV = {CV1:.2f}%\")\n",
    "print(f\"Group 2: Mean = ${Mean2}, Standard Deviation = ${std_dev2}, CV = {CV2:.2f}%\")\n",
    "\n",
    "if CV1 == CV2:\n",
    "    print(\"Both groups have the same relative variability in expenditure.\")\n",
    "else:\n",
    "    print(\"The relative variability in expenditure is different between the groups.\")"
   ]
  },
  {
   "cell_type": "markdown",
   "id": "f8cf5177",
   "metadata": {},
   "source": [
    "4.During the survey, the ages of 80 patients infected by COVID and admitted to one of the city hospitals were recorded and the collected data is represented in the less than cumulative frequency distribution table.\n",
    "\n"
   ]
  },
  {
   "cell_type": "markdown",
   "id": "658c3bdf",
   "metadata": {},
   "source": [
    "                                    Age(in Yrs)       No of Patients\n",
    "                                       5-15                 6\n",
    "                                       15-25                11\n",
    "                                       25-35                21 \n",
    "                                       35-45                23\n",
    "                                       45-55                14\n",
    "                                       55-65                5              "
   ]
  },
  {
   "cell_type": "markdown",
   "id": "1a20af8f",
   "metadata": {},
   "source": [
    "(a) Which class interval has the highest frequency?"
   ]
  },
  {
   "cell_type": "markdown",
   "id": "f05d2f9a",
   "metadata": {},
   "source": [
    "Answer : The class interval 35-45 has the highest frequency, which is 23."
   ]
  },
  {
   "cell_type": "markdown",
   "id": "6d6c8f14",
   "metadata": {},
   "source": [
    "(b)  Which age was affected the least?"
   ]
  },
  {
   "cell_type": "markdown",
   "id": "952db842",
   "metadata": {},
   "source": [
    "Answer : The class interval 55-65 has the smallest frequency, which is 5."
   ]
  },
  {
   "cell_type": "markdown",
   "id": "662a9848",
   "metadata": {},
   "source": [
    "(c) How many patients aged 45 years and above were admitted?"
   ]
  },
  {
   "cell_type": "markdown",
   "id": "2af80580",
   "metadata": {},
   "source": [
    "Answer: Total 19 (i.e 14+5 under age 45-55 & 55-65)"
   ]
  },
  {
   "cell_type": "markdown",
   "id": "3694d3b8",
   "metadata": {},
   "source": [
    "(d) Which is the modal class interval in the above dataset?"
   ]
  },
  {
   "cell_type": "markdown",
   "id": "69b93123",
   "metadata": {},
   "source": [
    "The modal class interval in the above dataset is 35-45 years."
   ]
  },
  {
   "cell_type": "markdown",
   "id": "2c759511",
   "metadata": {},
   "source": [
    "(e) What is the median class interval of age?"
   ]
  },
  {
   "cell_type": "markdown",
   "id": "e3cb7eb2",
   "metadata": {},
   "source": [
    "Answer: Mean = (N+1)/2 ; 81/2 = 40.5 hence, the median position falls into the class interval 35-45."
   ]
  },
  {
   "cell_type": "markdown",
   "id": "166a7e63",
   "metadata": {},
   "source": [
    "5.Assume you are the trader and you have invested over the years, and you are worried about the average return on investment. What average method would you use to compute the average return for the data given below?"
   ]
  },
  {
   "cell_type": "markdown",
   "id": "2768ac48",
   "metadata": {},
   "source": [
    "                                Year\tReturn\t\tAsset Price\n",
    "                                2015\t 36%\t\t  5000\t\n",
    "                                2016\t 23%\t\t  6400\t\n",
    "                                2017\t-48%\t\t  7890\n",
    "                                2018\t-30%\t\t  9023\t\n",
    "                                2019\t 15%\t\t  4567 \n",
    "                                2020\t 31%\t\t  3890 "
   ]
  },
  {
   "cell_type": "code",
   "execution_count": 10,
   "id": "87e4d8be",
   "metadata": {},
   "outputs": [
    {
     "name": "stdout",
     "output_type": "stream",
     "text": [
      "Geometric Mean: -0.0143\n"
     ]
    }
   ],
   "source": [
    "# Answer : Geometric Mean method would be used to compute the average return of the data because it considers the effect of compounding.\n",
    "\n",
    "returns = np.array([0.36, 0.23, -0.48, -0.30, 0.15, 0.31])\n",
    "asset_prices = np.array([5000, 6400, 7890, 9023, 4567, 3890])\n",
    "\n",
    "geometric_mean = np.prod(1 + returns) ** (1 / len(returns)) - 1\n",
    "print(f\"Geometric Mean: {geometric_mean:.4f}\")"
   ]
  },
  {
   "cell_type": "markdown",
   "id": "31f19379",
   "metadata": {},
   "source": [
    "6. Suppose you have been told to measure the average height of all the males on the earth. What would be your strategy for the same? Would the average height be a parameter or a statistic? Justify your answer."
   ]
  },
  {
   "cell_type": "markdown",
   "id": "3801c0c0",
   "metadata": {},
   "source": [
    "#Answer : Strategy for Measuring Average Height\n",
    "\n",
    "1. Define the Population\n",
    "2. Data Collection Method\n",
    "3. Data Aggregation\n",
    "4. Statistical Analysis\n",
    "5. Reporting\n",
    "\n",
    "Average Height would become a parameter if you had exact measurements of every male on Earth.\n",
    "Or,  in practice you will estimate the average height using sample data, so the calculated average height from the sample is a statistic."
   ]
  },
  {
   "cell_type": "markdown",
   "id": "84155c24",
   "metadata": {},
   "source": [
    "7. Calculate the z score of the following numbers:\n",
    "\n",
    "X = [4.5,6.2,7.3,9.1,10.4,11]"
   ]
  },
  {
   "cell_type": "code",
   "execution_count": 21,
   "id": "58eb067d",
   "metadata": {},
   "outputs": [
    {
     "name": "stdout",
     "output_type": "stream",
     "text": [
      "Mean: 8.08\n",
      "Standard Deviation: 2.53\n",
      "Z_score: [-1.41846999 -0.74552144 -0.31008414  0.40244962  0.91705734  1.1545686 ]\n"
     ]
    }
   ],
   "source": [
    "import scipy.stats as stats\n",
    "\n",
    "X = np.array([4.5,6.2,7.3,9.1,10.4,11])\n",
    "mean_X = np.mean(X)\n",
    "std_dev_X = np.std(X,ddof=1)\n",
    "\n",
    "Z_score = (X-mean_X)/std_dev_X\n",
    "#z = stats.zscore(X)\n",
    "print(f\"Mean: {mean_X:.2f}\")\n",
    "print(f\"Standard Deviation: {std_dev_X:.2f}\")\n",
    "print(f\"Z_score: {Z_score}\")"
   ]
  },
  {
   "cell_type": "markdown",
   "id": "91e3ce5f",
   "metadata": {},
   "source": [
    "# Section 2"
   ]
  },
  {
   "cell_type": "markdown",
   "id": "3008d024",
   "metadata": {},
   "source": [
    "You are expected to perform statistical analysis for the Bank Personal Loan Modelling dataset. Below is the data dictionary. For questions, 8 to 20 use the Bank Personal Loan Modelling dataset and answer the given questions."
   ]
  },
  {
   "cell_type": "markdown",
   "id": "5e663271",
   "metadata": {},
   "source": []
  },
  {
   "cell_type": "markdown",
   "id": "00011a4e",
   "metadata": {},
   "source": [
    "8. Give us the statistical summary for all the variables in the dataset."
   ]
  },
  {
   "cell_type": "code",
   "execution_count": 23,
   "id": "bbb9baa6",
   "metadata": {},
   "outputs": [],
   "source": [
    "import pandas as pd\n",
    "import numpy as np\n",
    "import seaborn as sns\n",
    "import matplotlib.pyplot as plt"
   ]
  },
  {
   "cell_type": "code",
   "execution_count": 3,
   "id": "48b2d056",
   "metadata": {},
   "outputs": [
    {
     "data": {
      "text/html": [
       "<div>\n",
       "<style scoped>\n",
       "    .dataframe tbody tr th:only-of-type {\n",
       "        vertical-align: middle;\n",
       "    }\n",
       "\n",
       "    .dataframe tbody tr th {\n",
       "        vertical-align: top;\n",
       "    }\n",
       "\n",
       "    .dataframe thead th {\n",
       "        text-align: right;\n",
       "    }\n",
       "</style>\n",
       "<table border=\"1\" class=\"dataframe\">\n",
       "  <thead>\n",
       "    <tr style=\"text-align: right;\">\n",
       "      <th></th>\n",
       "      <th>ID</th>\n",
       "      <th>Age</th>\n",
       "      <th>Experience</th>\n",
       "      <th>Income</th>\n",
       "      <th>ZIP Code</th>\n",
       "      <th>Family</th>\n",
       "      <th>CCAvg</th>\n",
       "      <th>Education</th>\n",
       "      <th>Mortgage</th>\n",
       "      <th>Personal Loan</th>\n",
       "      <th>Securities Account</th>\n",
       "      <th>CD Account</th>\n",
       "      <th>Online</th>\n",
       "      <th>CreditCard</th>\n",
       "    </tr>\n",
       "  </thead>\n",
       "  <tbody>\n",
       "    <tr>\n",
       "      <th>0</th>\n",
       "      <td>1</td>\n",
       "      <td>25</td>\n",
       "      <td>1</td>\n",
       "      <td>49</td>\n",
       "      <td>91107</td>\n",
       "      <td>4</td>\n",
       "      <td>1.6</td>\n",
       "      <td>1</td>\n",
       "      <td>0</td>\n",
       "      <td>0</td>\n",
       "      <td>1</td>\n",
       "      <td>0</td>\n",
       "      <td>0</td>\n",
       "      <td>0</td>\n",
       "    </tr>\n",
       "    <tr>\n",
       "      <th>1</th>\n",
       "      <td>2</td>\n",
       "      <td>45</td>\n",
       "      <td>19</td>\n",
       "      <td>34</td>\n",
       "      <td>90089</td>\n",
       "      <td>3</td>\n",
       "      <td>1.5</td>\n",
       "      <td>1</td>\n",
       "      <td>0</td>\n",
       "      <td>0</td>\n",
       "      <td>1</td>\n",
       "      <td>0</td>\n",
       "      <td>0</td>\n",
       "      <td>0</td>\n",
       "    </tr>\n",
       "    <tr>\n",
       "      <th>2</th>\n",
       "      <td>3</td>\n",
       "      <td>39</td>\n",
       "      <td>15</td>\n",
       "      <td>11</td>\n",
       "      <td>94720</td>\n",
       "      <td>1</td>\n",
       "      <td>1.0</td>\n",
       "      <td>1</td>\n",
       "      <td>0</td>\n",
       "      <td>0</td>\n",
       "      <td>0</td>\n",
       "      <td>0</td>\n",
       "      <td>0</td>\n",
       "      <td>0</td>\n",
       "    </tr>\n",
       "    <tr>\n",
       "      <th>3</th>\n",
       "      <td>4</td>\n",
       "      <td>35</td>\n",
       "      <td>9</td>\n",
       "      <td>100</td>\n",
       "      <td>94112</td>\n",
       "      <td>1</td>\n",
       "      <td>2.7</td>\n",
       "      <td>2</td>\n",
       "      <td>0</td>\n",
       "      <td>0</td>\n",
       "      <td>0</td>\n",
       "      <td>0</td>\n",
       "      <td>0</td>\n",
       "      <td>0</td>\n",
       "    </tr>\n",
       "    <tr>\n",
       "      <th>4</th>\n",
       "      <td>5</td>\n",
       "      <td>35</td>\n",
       "      <td>8</td>\n",
       "      <td>45</td>\n",
       "      <td>91330</td>\n",
       "      <td>4</td>\n",
       "      <td>1.0</td>\n",
       "      <td>2</td>\n",
       "      <td>0</td>\n",
       "      <td>0</td>\n",
       "      <td>0</td>\n",
       "      <td>0</td>\n",
       "      <td>0</td>\n",
       "      <td>1</td>\n",
       "    </tr>\n",
       "    <tr>\n",
       "      <th>...</th>\n",
       "      <td>...</td>\n",
       "      <td>...</td>\n",
       "      <td>...</td>\n",
       "      <td>...</td>\n",
       "      <td>...</td>\n",
       "      <td>...</td>\n",
       "      <td>...</td>\n",
       "      <td>...</td>\n",
       "      <td>...</td>\n",
       "      <td>...</td>\n",
       "      <td>...</td>\n",
       "      <td>...</td>\n",
       "      <td>...</td>\n",
       "      <td>...</td>\n",
       "    </tr>\n",
       "    <tr>\n",
       "      <th>4995</th>\n",
       "      <td>4996</td>\n",
       "      <td>29</td>\n",
       "      <td>3</td>\n",
       "      <td>40</td>\n",
       "      <td>92697</td>\n",
       "      <td>1</td>\n",
       "      <td>1.9</td>\n",
       "      <td>3</td>\n",
       "      <td>0</td>\n",
       "      <td>0</td>\n",
       "      <td>0</td>\n",
       "      <td>0</td>\n",
       "      <td>1</td>\n",
       "      <td>0</td>\n",
       "    </tr>\n",
       "    <tr>\n",
       "      <th>4996</th>\n",
       "      <td>4997</td>\n",
       "      <td>30</td>\n",
       "      <td>4</td>\n",
       "      <td>15</td>\n",
       "      <td>92037</td>\n",
       "      <td>4</td>\n",
       "      <td>0.4</td>\n",
       "      <td>1</td>\n",
       "      <td>85</td>\n",
       "      <td>0</td>\n",
       "      <td>0</td>\n",
       "      <td>0</td>\n",
       "      <td>1</td>\n",
       "      <td>0</td>\n",
       "    </tr>\n",
       "    <tr>\n",
       "      <th>4997</th>\n",
       "      <td>4998</td>\n",
       "      <td>63</td>\n",
       "      <td>39</td>\n",
       "      <td>24</td>\n",
       "      <td>93023</td>\n",
       "      <td>2</td>\n",
       "      <td>0.3</td>\n",
       "      <td>3</td>\n",
       "      <td>0</td>\n",
       "      <td>0</td>\n",
       "      <td>0</td>\n",
       "      <td>0</td>\n",
       "      <td>0</td>\n",
       "      <td>0</td>\n",
       "    </tr>\n",
       "    <tr>\n",
       "      <th>4998</th>\n",
       "      <td>4999</td>\n",
       "      <td>65</td>\n",
       "      <td>40</td>\n",
       "      <td>49</td>\n",
       "      <td>90034</td>\n",
       "      <td>3</td>\n",
       "      <td>0.5</td>\n",
       "      <td>2</td>\n",
       "      <td>0</td>\n",
       "      <td>0</td>\n",
       "      <td>0</td>\n",
       "      <td>0</td>\n",
       "      <td>1</td>\n",
       "      <td>0</td>\n",
       "    </tr>\n",
       "    <tr>\n",
       "      <th>4999</th>\n",
       "      <td>5000</td>\n",
       "      <td>28</td>\n",
       "      <td>4</td>\n",
       "      <td>83</td>\n",
       "      <td>92612</td>\n",
       "      <td>3</td>\n",
       "      <td>0.8</td>\n",
       "      <td>1</td>\n",
       "      <td>0</td>\n",
       "      <td>0</td>\n",
       "      <td>0</td>\n",
       "      <td>0</td>\n",
       "      <td>1</td>\n",
       "      <td>1</td>\n",
       "    </tr>\n",
       "  </tbody>\n",
       "</table>\n",
       "<p>5000 rows × 14 columns</p>\n",
       "</div>"
      ],
      "text/plain": [
       "        ID  Age  Experience  Income  ZIP Code  Family  CCAvg  Education  \\\n",
       "0        1   25           1      49     91107       4    1.6          1   \n",
       "1        2   45          19      34     90089       3    1.5          1   \n",
       "2        3   39          15      11     94720       1    1.0          1   \n",
       "3        4   35           9     100     94112       1    2.7          2   \n",
       "4        5   35           8      45     91330       4    1.0          2   \n",
       "...    ...  ...         ...     ...       ...     ...    ...        ...   \n",
       "4995  4996   29           3      40     92697       1    1.9          3   \n",
       "4996  4997   30           4      15     92037       4    0.4          1   \n",
       "4997  4998   63          39      24     93023       2    0.3          3   \n",
       "4998  4999   65          40      49     90034       3    0.5          2   \n",
       "4999  5000   28           4      83     92612       3    0.8          1   \n",
       "\n",
       "      Mortgage  Personal Loan  Securities Account  CD Account  Online  \\\n",
       "0            0              0                   1           0       0   \n",
       "1            0              0                   1           0       0   \n",
       "2            0              0                   0           0       0   \n",
       "3            0              0                   0           0       0   \n",
       "4            0              0                   0           0       0   \n",
       "...        ...            ...                 ...         ...     ...   \n",
       "4995         0              0                   0           0       1   \n",
       "4996        85              0                   0           0       1   \n",
       "4997         0              0                   0           0       0   \n",
       "4998         0              0                   0           0       1   \n",
       "4999         0              0                   0           0       1   \n",
       "\n",
       "      CreditCard  \n",
       "0              0  \n",
       "1              0  \n",
       "2              0  \n",
       "3              0  \n",
       "4              1  \n",
       "...          ...  \n",
       "4995           0  \n",
       "4996           0  \n",
       "4997           0  \n",
       "4998           0  \n",
       "4999           1  \n",
       "\n",
       "[5000 rows x 14 columns]"
      ]
     },
     "execution_count": 3,
     "metadata": {},
     "output_type": "execute_result"
    }
   ],
   "source": [
    "df = pd.read_csv(r\"C:\\Users\\admin\\Downloads\\Bank Personal Loan Modelling (1).csv\")\n",
    "df"
   ]
  },
  {
   "cell_type": "code",
   "execution_count": 38,
   "id": "3fea788e",
   "metadata": {},
   "outputs": [
    {
     "data": {
      "text/html": [
       "<div>\n",
       "<style scoped>\n",
       "    .dataframe tbody tr th:only-of-type {\n",
       "        vertical-align: middle;\n",
       "    }\n",
       "\n",
       "    .dataframe tbody tr th {\n",
       "        vertical-align: top;\n",
       "    }\n",
       "\n",
       "    .dataframe thead th {\n",
       "        text-align: right;\n",
       "    }\n",
       "</style>\n",
       "<table border=\"1\" class=\"dataframe\">\n",
       "  <thead>\n",
       "    <tr style=\"text-align: right;\">\n",
       "      <th></th>\n",
       "      <th>count</th>\n",
       "      <th>mean</th>\n",
       "      <th>std</th>\n",
       "      <th>min</th>\n",
       "      <th>25%</th>\n",
       "      <th>50%</th>\n",
       "      <th>75%</th>\n",
       "      <th>max</th>\n",
       "    </tr>\n",
       "  </thead>\n",
       "  <tbody>\n",
       "    <tr>\n",
       "      <th>ID</th>\n",
       "      <td>5000.0</td>\n",
       "      <td>2500.500000</td>\n",
       "      <td>1443.520003</td>\n",
       "      <td>1.0</td>\n",
       "      <td>1250.75</td>\n",
       "      <td>2500.5</td>\n",
       "      <td>3750.25</td>\n",
       "      <td>5000.0</td>\n",
       "    </tr>\n",
       "    <tr>\n",
       "      <th>Age</th>\n",
       "      <td>5000.0</td>\n",
       "      <td>45.338400</td>\n",
       "      <td>11.463166</td>\n",
       "      <td>23.0</td>\n",
       "      <td>35.00</td>\n",
       "      <td>45.0</td>\n",
       "      <td>55.00</td>\n",
       "      <td>67.0</td>\n",
       "    </tr>\n",
       "    <tr>\n",
       "      <th>Experience</th>\n",
       "      <td>5000.0</td>\n",
       "      <td>20.104600</td>\n",
       "      <td>11.467954</td>\n",
       "      <td>-3.0</td>\n",
       "      <td>10.00</td>\n",
       "      <td>20.0</td>\n",
       "      <td>30.00</td>\n",
       "      <td>43.0</td>\n",
       "    </tr>\n",
       "    <tr>\n",
       "      <th>Income</th>\n",
       "      <td>5000.0</td>\n",
       "      <td>73.774200</td>\n",
       "      <td>46.033729</td>\n",
       "      <td>8.0</td>\n",
       "      <td>39.00</td>\n",
       "      <td>64.0</td>\n",
       "      <td>98.00</td>\n",
       "      <td>224.0</td>\n",
       "    </tr>\n",
       "    <tr>\n",
       "      <th>ZIP Code</th>\n",
       "      <td>5000.0</td>\n",
       "      <td>93152.503000</td>\n",
       "      <td>2121.852197</td>\n",
       "      <td>9307.0</td>\n",
       "      <td>91911.00</td>\n",
       "      <td>93437.0</td>\n",
       "      <td>94608.00</td>\n",
       "      <td>96651.0</td>\n",
       "    </tr>\n",
       "    <tr>\n",
       "      <th>Family</th>\n",
       "      <td>5000.0</td>\n",
       "      <td>2.396400</td>\n",
       "      <td>1.147663</td>\n",
       "      <td>1.0</td>\n",
       "      <td>1.00</td>\n",
       "      <td>2.0</td>\n",
       "      <td>3.00</td>\n",
       "      <td>4.0</td>\n",
       "    </tr>\n",
       "    <tr>\n",
       "      <th>CCAvg</th>\n",
       "      <td>5000.0</td>\n",
       "      <td>1.937938</td>\n",
       "      <td>1.747659</td>\n",
       "      <td>0.0</td>\n",
       "      <td>0.70</td>\n",
       "      <td>1.5</td>\n",
       "      <td>2.50</td>\n",
       "      <td>10.0</td>\n",
       "    </tr>\n",
       "    <tr>\n",
       "      <th>Education</th>\n",
       "      <td>5000.0</td>\n",
       "      <td>1.881000</td>\n",
       "      <td>0.839869</td>\n",
       "      <td>1.0</td>\n",
       "      <td>1.00</td>\n",
       "      <td>2.0</td>\n",
       "      <td>3.00</td>\n",
       "      <td>3.0</td>\n",
       "    </tr>\n",
       "    <tr>\n",
       "      <th>Mortgage</th>\n",
       "      <td>5000.0</td>\n",
       "      <td>56.498800</td>\n",
       "      <td>101.713802</td>\n",
       "      <td>0.0</td>\n",
       "      <td>0.00</td>\n",
       "      <td>0.0</td>\n",
       "      <td>101.00</td>\n",
       "      <td>635.0</td>\n",
       "    </tr>\n",
       "    <tr>\n",
       "      <th>Personal Loan</th>\n",
       "      <td>5000.0</td>\n",
       "      <td>0.096000</td>\n",
       "      <td>0.294621</td>\n",
       "      <td>0.0</td>\n",
       "      <td>0.00</td>\n",
       "      <td>0.0</td>\n",
       "      <td>0.00</td>\n",
       "      <td>1.0</td>\n",
       "    </tr>\n",
       "    <tr>\n",
       "      <th>Securities Account</th>\n",
       "      <td>5000.0</td>\n",
       "      <td>0.104400</td>\n",
       "      <td>0.305809</td>\n",
       "      <td>0.0</td>\n",
       "      <td>0.00</td>\n",
       "      <td>0.0</td>\n",
       "      <td>0.00</td>\n",
       "      <td>1.0</td>\n",
       "    </tr>\n",
       "    <tr>\n",
       "      <th>CD Account</th>\n",
       "      <td>5000.0</td>\n",
       "      <td>0.060400</td>\n",
       "      <td>0.238250</td>\n",
       "      <td>0.0</td>\n",
       "      <td>0.00</td>\n",
       "      <td>0.0</td>\n",
       "      <td>0.00</td>\n",
       "      <td>1.0</td>\n",
       "    </tr>\n",
       "    <tr>\n",
       "      <th>Online</th>\n",
       "      <td>5000.0</td>\n",
       "      <td>0.596800</td>\n",
       "      <td>0.490589</td>\n",
       "      <td>0.0</td>\n",
       "      <td>0.00</td>\n",
       "      <td>1.0</td>\n",
       "      <td>1.00</td>\n",
       "      <td>1.0</td>\n",
       "    </tr>\n",
       "    <tr>\n",
       "      <th>CreditCard</th>\n",
       "      <td>5000.0</td>\n",
       "      <td>0.294000</td>\n",
       "      <td>0.455637</td>\n",
       "      <td>0.0</td>\n",
       "      <td>0.00</td>\n",
       "      <td>0.0</td>\n",
       "      <td>1.00</td>\n",
       "      <td>1.0</td>\n",
       "    </tr>\n",
       "  </tbody>\n",
       "</table>\n",
       "</div>"
      ],
      "text/plain": [
       "                     count          mean          std     min       25%  \\\n",
       "ID                  5000.0   2500.500000  1443.520003     1.0   1250.75   \n",
       "Age                 5000.0     45.338400    11.463166    23.0     35.00   \n",
       "Experience          5000.0     20.104600    11.467954    -3.0     10.00   \n",
       "Income              5000.0     73.774200    46.033729     8.0     39.00   \n",
       "ZIP Code            5000.0  93152.503000  2121.852197  9307.0  91911.00   \n",
       "Family              5000.0      2.396400     1.147663     1.0      1.00   \n",
       "CCAvg               5000.0      1.937938     1.747659     0.0      0.70   \n",
       "Education           5000.0      1.881000     0.839869     1.0      1.00   \n",
       "Mortgage            5000.0     56.498800   101.713802     0.0      0.00   \n",
       "Personal Loan       5000.0      0.096000     0.294621     0.0      0.00   \n",
       "Securities Account  5000.0      0.104400     0.305809     0.0      0.00   \n",
       "CD Account          5000.0      0.060400     0.238250     0.0      0.00   \n",
       "Online              5000.0      0.596800     0.490589     0.0      0.00   \n",
       "CreditCard          5000.0      0.294000     0.455637     0.0      0.00   \n",
       "\n",
       "                        50%       75%      max  \n",
       "ID                   2500.5   3750.25   5000.0  \n",
       "Age                    45.0     55.00     67.0  \n",
       "Experience             20.0     30.00     43.0  \n",
       "Income                 64.0     98.00    224.0  \n",
       "ZIP Code            93437.0  94608.00  96651.0  \n",
       "Family                  2.0      3.00      4.0  \n",
       "CCAvg                   1.5      2.50     10.0  \n",
       "Education               2.0      3.00      3.0  \n",
       "Mortgage                0.0    101.00    635.0  \n",
       "Personal Loan           0.0      0.00      1.0  \n",
       "Securities Account      0.0      0.00      1.0  \n",
       "CD Account              0.0      0.00      1.0  \n",
       "Online                  1.0      1.00      1.0  \n",
       "CreditCard              0.0      1.00      1.0  "
      ]
     },
     "execution_count": 38,
     "metadata": {},
     "output_type": "execute_result"
    }
   ],
   "source": [
    "df.describe().T"
   ]
  },
  {
   "cell_type": "markdown",
   "id": "0ca4edec",
   "metadata": {},
   "source": [
    "9. Evaluate the measures of central tendency and measures of dispersion for all the quantitative variables in the dataset."
   ]
  },
  {
   "cell_type": "code",
   "execution_count": 4,
   "id": "445092d4",
   "metadata": {},
   "outputs": [
    {
     "name": "stdout",
     "output_type": "stream",
     "text": [
      "<class 'pandas.core.frame.DataFrame'>\n",
      "RangeIndex: 5000 entries, 0 to 4999\n",
      "Data columns (total 14 columns):\n",
      " #   Column              Non-Null Count  Dtype  \n",
      "---  ------              --------------  -----  \n",
      " 0   ID                  5000 non-null   int64  \n",
      " 1   Age                 5000 non-null   int64  \n",
      " 2   Experience          5000 non-null   int64  \n",
      " 3   Income              5000 non-null   int64  \n",
      " 4   ZIP Code            5000 non-null   int64  \n",
      " 5   Family              5000 non-null   int64  \n",
      " 6   CCAvg               5000 non-null   float64\n",
      " 7   Education           5000 non-null   int64  \n",
      " 8   Mortgage            5000 non-null   int64  \n",
      " 9   Personal Loan       5000 non-null   int64  \n",
      " 10  Securities Account  5000 non-null   int64  \n",
      " 11  CD Account          5000 non-null   int64  \n",
      " 12  Online              5000 non-null   int64  \n",
      " 13  CreditCard          5000 non-null   int64  \n",
      "dtypes: float64(1), int64(13)\n",
      "memory usage: 547.0 KB\n"
     ]
    }
   ],
   "source": [
    "df.info()"
   ]
  },
  {
   "cell_type": "markdown",
   "id": "ff8e72a9",
   "metadata": {},
   "source": [
    "Answer: \n",
    "# Measures of Central Tendency : \n",
    "1. Mean\n",
    "2. Median\n",
    "3. Mode\n",
    "\n",
    "# Measures of Dispersion : \n",
    "1. Range\n",
    "2. IQR\n",
    "3. Variance\n",
    "4. Standard Deviation"
   ]
  },
  {
   "cell_type": "code",
   "execution_count": 27,
   "id": "141056fc",
   "metadata": {},
   "outputs": [
    {
     "data": {
      "text/html": [
       "<div>\n",
       "<style scoped>\n",
       "    .dataframe tbody tr th:only-of-type {\n",
       "        vertical-align: middle;\n",
       "    }\n",
       "\n",
       "    .dataframe tbody tr th {\n",
       "        vertical-align: top;\n",
       "    }\n",
       "\n",
       "    .dataframe thead th {\n",
       "        text-align: right;\n",
       "    }\n",
       "</style>\n",
       "<table border=\"1\" class=\"dataframe\">\n",
       "  <thead>\n",
       "    <tr style=\"text-align: right;\">\n",
       "      <th></th>\n",
       "      <th>Age</th>\n",
       "      <th>Experience</th>\n",
       "      <th>Income</th>\n",
       "      <th>Family</th>\n",
       "      <th>CCAvg</th>\n",
       "      <th>Mortgage</th>\n",
       "    </tr>\n",
       "  </thead>\n",
       "  <tbody>\n",
       "    <tr>\n",
       "      <th>count</th>\n",
       "      <td>5000.000000</td>\n",
       "      <td>5000.000000</td>\n",
       "      <td>5000.000000</td>\n",
       "      <td>5000.000000</td>\n",
       "      <td>5000.000000</td>\n",
       "      <td>5000.000000</td>\n",
       "    </tr>\n",
       "    <tr>\n",
       "      <th>mean</th>\n",
       "      <td>45.338400</td>\n",
       "      <td>20.104600</td>\n",
       "      <td>73.774200</td>\n",
       "      <td>2.396400</td>\n",
       "      <td>1.937938</td>\n",
       "      <td>56.498800</td>\n",
       "    </tr>\n",
       "    <tr>\n",
       "      <th>std</th>\n",
       "      <td>11.463166</td>\n",
       "      <td>11.467954</td>\n",
       "      <td>46.033729</td>\n",
       "      <td>1.147663</td>\n",
       "      <td>1.747659</td>\n",
       "      <td>101.713802</td>\n",
       "    </tr>\n",
       "    <tr>\n",
       "      <th>min</th>\n",
       "      <td>23.000000</td>\n",
       "      <td>-3.000000</td>\n",
       "      <td>8.000000</td>\n",
       "      <td>1.000000</td>\n",
       "      <td>0.000000</td>\n",
       "      <td>0.000000</td>\n",
       "    </tr>\n",
       "    <tr>\n",
       "      <th>25%</th>\n",
       "      <td>35.000000</td>\n",
       "      <td>10.000000</td>\n",
       "      <td>39.000000</td>\n",
       "      <td>1.000000</td>\n",
       "      <td>0.700000</td>\n",
       "      <td>0.000000</td>\n",
       "    </tr>\n",
       "    <tr>\n",
       "      <th>50%</th>\n",
       "      <td>45.000000</td>\n",
       "      <td>20.000000</td>\n",
       "      <td>64.000000</td>\n",
       "      <td>2.000000</td>\n",
       "      <td>1.500000</td>\n",
       "      <td>0.000000</td>\n",
       "    </tr>\n",
       "    <tr>\n",
       "      <th>75%</th>\n",
       "      <td>55.000000</td>\n",
       "      <td>30.000000</td>\n",
       "      <td>98.000000</td>\n",
       "      <td>3.000000</td>\n",
       "      <td>2.500000</td>\n",
       "      <td>101.000000</td>\n",
       "    </tr>\n",
       "    <tr>\n",
       "      <th>max</th>\n",
       "      <td>67.000000</td>\n",
       "      <td>43.000000</td>\n",
       "      <td>224.000000</td>\n",
       "      <td>4.000000</td>\n",
       "      <td>10.000000</td>\n",
       "      <td>635.000000</td>\n",
       "    </tr>\n",
       "  </tbody>\n",
       "</table>\n",
       "</div>"
      ],
      "text/plain": [
       "               Age   Experience       Income       Family        CCAvg  \\\n",
       "count  5000.000000  5000.000000  5000.000000  5000.000000  5000.000000   \n",
       "mean     45.338400    20.104600    73.774200     2.396400     1.937938   \n",
       "std      11.463166    11.467954    46.033729     1.147663     1.747659   \n",
       "min      23.000000    -3.000000     8.000000     1.000000     0.000000   \n",
       "25%      35.000000    10.000000    39.000000     1.000000     0.700000   \n",
       "50%      45.000000    20.000000    64.000000     2.000000     1.500000   \n",
       "75%      55.000000    30.000000    98.000000     3.000000     2.500000   \n",
       "max      67.000000    43.000000   224.000000     4.000000    10.000000   \n",
       "\n",
       "          Mortgage  \n",
       "count  5000.000000  \n",
       "mean     56.498800  \n",
       "std     101.713802  \n",
       "min       0.000000  \n",
       "25%       0.000000  \n",
       "50%       0.000000  \n",
       "75%     101.000000  \n",
       "max     635.000000  "
      ]
     },
     "execution_count": 27,
     "metadata": {},
     "output_type": "execute_result"
    }
   ],
   "source": [
    "df_int_new = df.iloc[:,[1,2,3,5,6,8]]\n",
    "df_int_new.describe()"
   ]
  },
  {
   "cell_type": "code",
   "execution_count": 45,
   "id": "59a90584",
   "metadata": {},
   "outputs": [
    {
     "data": {
      "text/html": [
       "<div>\n",
       "<style scoped>\n",
       "    .dataframe tbody tr th:only-of-type {\n",
       "        vertical-align: middle;\n",
       "    }\n",
       "\n",
       "    .dataframe tbody tr th {\n",
       "        vertical-align: top;\n",
       "    }\n",
       "\n",
       "    .dataframe thead th {\n",
       "        text-align: right;\n",
       "    }\n",
       "</style>\n",
       "<table border=\"1\" class=\"dataframe\">\n",
       "  <thead>\n",
       "    <tr style=\"text-align: right;\">\n",
       "      <th></th>\n",
       "      <th>Age</th>\n",
       "      <th>Experience</th>\n",
       "      <th>Income</th>\n",
       "      <th>Family</th>\n",
       "      <th>CCAvg</th>\n",
       "      <th>Mortgage</th>\n",
       "    </tr>\n",
       "  </thead>\n",
       "  <tbody>\n",
       "    <tr>\n",
       "      <th>0</th>\n",
       "      <td>35</td>\n",
       "      <td>32</td>\n",
       "      <td>44</td>\n",
       "      <td>1</td>\n",
       "      <td>0.3</td>\n",
       "      <td>0</td>\n",
       "    </tr>\n",
       "  </tbody>\n",
       "</table>\n",
       "</div>"
      ],
      "text/plain": [
       "   Age  Experience  Income  Family  CCAvg  Mortgage\n",
       "0   35          32      44       1    0.3         0"
      ]
     },
     "execution_count": 45,
     "metadata": {},
     "output_type": "execute_result"
    }
   ],
   "source": [
    "df_int_new.mode()"
   ]
  },
  {
   "cell_type": "code",
   "execution_count": 37,
   "id": "6d7e6c2e",
   "metadata": {},
   "outputs": [
    {
     "data": {
      "text/plain": [
       "Age            44.0\n",
       "Experience     46.0\n",
       "Income        216.0\n",
       "Family          3.0\n",
       "CCAvg          10.0\n",
       "Mortgage      635.0\n",
       "dtype: float64"
      ]
     },
     "execution_count": 37,
     "metadata": {},
     "output_type": "execute_result"
    }
   ],
   "source": [
    "Range = df_int_new.max() - df_int_new.min()\n",
    "Range"
   ]
  },
  {
   "cell_type": "code",
   "execution_count": 36,
   "id": "32328327",
   "metadata": {},
   "outputs": [
    {
     "data": {
      "text/plain": [
       "Age            20.0\n",
       "Experience     20.0\n",
       "Income         59.0\n",
       "Family          2.0\n",
       "CCAvg           1.8\n",
       "Mortgage      101.0\n",
       "dtype: float64"
      ]
     },
     "execution_count": 36,
     "metadata": {},
     "output_type": "execute_result"
    }
   ],
   "source": [
    "Q3 = df_int_new.quantile(.75)\n",
    "Q3\n",
    "Q1 = df_int_new.quantile(.25)\n",
    "Q1\n",
    "IQR = Q3-Q1\n",
    "IQR"
   ]
  },
  {
   "cell_type": "code",
   "execution_count": 39,
   "id": "a9f3db33",
   "metadata": {},
   "outputs": [
    {
     "data": {
      "text/plain": [
       "Age             131.404166\n",
       "Experience      131.513962\n",
       "Income         2119.104235\n",
       "Family            1.317130\n",
       "CCAvg             3.054312\n",
       "Mortgage      10345.697538\n",
       "dtype: float64"
      ]
     },
     "execution_count": 39,
     "metadata": {},
     "output_type": "execute_result"
    }
   ],
   "source": [
    "df_int_new.var()"
   ]
  },
  {
   "cell_type": "markdown",
   "id": "b2f8398a",
   "metadata": {},
   "source": [
    "10. What statistical method will you use to examine the presence of a linear relationship between age and experience variables? Also, create a plot to illustrate this relationship."
   ]
  },
  {
   "cell_type": "markdown",
   "id": "4cacfe4c",
   "metadata": {},
   "source": [
    "Answer : Linear Regression method will be used to examine the presence of a linear relationship between age and experience variables."
   ]
  },
  {
   "cell_type": "code",
   "execution_count": 41,
   "id": "6fa21e83",
   "metadata": {},
   "outputs": [
    {
     "data": {
      "image/png": "[encoded data removed]",
      "text/plain": [
       "<Figure size 1000x600 with 1 Axes>"
      ]
     },
     "metadata": {},
     "output_type": "display_data"
    }
   ],
   "source": [
    "X = df[['Age']]  # Independent variable\n",
    "y = df['Experience']  # Dependent variable\n",
    "\n",
    "# Fit the linear regression model\n",
    "model = LinearRegression()\n",
    "model.fit(X, y)\n",
    "\n",
    "# Predict values\n",
    "df['Predicted_Experience'] = model.predict(X)\n",
    "\n",
    "# Plotting\n",
    "plt.figure(figsize=(10, 6))\n",
    "sns.scatterplot(x='Age', y='Experience', data=df, label='Actual Data')\n",
    "plt.plot(df['Age'], df['Predicted_Experience'], color='red', label='Fitted Line')\n",
    "plt.title('Scatter Plot with Linear Regression Line')\n",
    "plt.xlabel('Age')\n",
    "plt.ylabel('Experience')\n",
    "plt.legend()\n",
    "plt.show()"
   ]
  },
  {
   "cell_type": "markdown",
   "id": "6ae09d15",
   "metadata": {},
   "source": [
    "11. What is the most frequent family size observed in this dataset?"
   ]
  },
  {
   "cell_type": "code",
   "execution_count": 48,
   "id": "d8ab51db",
   "metadata": {},
   "outputs": [
    {
     "name": "stdout",
     "output_type": "stream",
     "text": [
      "The most frequent family size is: 1\n"
     ]
    }
   ],
   "source": [
    "# Answer :\n",
    "\n",
    "most_frequent_family_size = df['Family'].mode()[0]\n",
    "print(f\"The most frequent family size is: {most_frequent_family_size}\")"
   ]
  },
  {
   "cell_type": "markdown",
   "id": "31401d97",
   "metadata": {},
   "source": [
    "12. What is the percentage of variation you can observe in the ‘Income’ variable?"
   ]
  },
  {
   "cell_type": "code",
   "execution_count": 53,
   "id": "96da1ab4",
   "metadata": {},
   "outputs": [
    {
     "name": "stdout",
     "output_type": "stream",
     "text": [
      "62.39814097758612\n"
     ]
    }
   ],
   "source": [
    "# Answer : \n",
    "\n",
    "df['Income'].mean()\n",
    "df['Income'].std()\n",
    "\n",
    "Coefficient_Variance = df['Income'].std()/df['Income'].mean()*100\n",
    "print(Coefficient_Variance)"
   ]
  },
  {
   "cell_type": "markdown",
   "id": "b2e70cda",
   "metadata": {},
   "source": [
    "13. The ‘Mortgage’ variable has a lot of zeroes. Impute with some business logical value that you feel fit for the data."
   ]
  },
  {
   "cell_type": "markdown",
   "id": "30e2c67d",
   "metadata": {},
   "source": [
    " #Answer \n",
    ": If Zero Means No Mortgage then the zeros can be left as it is. \n",
    ": If Zero Represents Missing Data then we needs to impute the missing values either with Mean or Median.\n",
    ": In the mentioned dataset Median is the logical value that fits for replacing the zeroes as median is robust to outliers and gives a central value for the imputation."
   ]
  },
  {
   "cell_type": "code",
   "execution_count": 123,
   "id": "f0ce20da",
   "metadata": {},
   "outputs": [
    {
     "data": {
      "text/plain": [
       "0       153\n",
       "1       153\n",
       "2       153\n",
       "3       153\n",
       "4       153\n",
       "       ... \n",
       "4995    153\n",
       "4996     85\n",
       "4997    153\n",
       "4998    153\n",
       "4999    153\n",
       "Name: Mortgage, Length: 5000, dtype: int64"
      ]
     },
     "execution_count": 123,
     "metadata": {},
     "output_type": "execute_result"
    }
   ],
   "source": [
    "median_value = df[df['Mortgage'] > 0]['Mortgage'].median()\n",
    "median_value\n",
    "# replace 0 with median_value\n",
    "df['Mortgage'] = df['Mortgage'].replace(0, median_value)\n",
    "df['Mortgage']"
   ]
  },
  {
   "cell_type": "markdown",
   "id": "db8c0142",
   "metadata": {},
   "source": [
    "14. Plot a density curve of the CCAvg variable for the customers who possess credit cards and write an interpretation about its distribution."
   ]
  },
  {
   "cell_type": "markdown",
   "id": "2296bb48",
   "metadata": {},
   "source": [
    "#Answer :\n",
    "\n",
    ": The density curve shows the distribution of average credit card spending (CCAvg) for customers who possess credit cards. \n",
    ": The curve is skewed to the right(positively skewed), it means that there are some customers with very high spending in comparison to the majority. \n",
    ": Below plot shows that the peak is larger than the usual."
   ]
  },
  {
   "cell_type": "code",
   "execution_count": 124,
   "id": "7094521f",
   "metadata": {},
   "outputs": [
    {
     "data": {
      "image/png": "[encoded data removed]",
      "text/plain": [
       "<Figure size 1000x600 with 1 Axes>"
      ]
     },
     "metadata": {},
     "output_type": "display_data"
    }
   ],
   "source": [
    "cc_customers = df[df['CreditCard'] == 1]\n",
    "\n",
    "# Plot the density curve for the 'CCAvg' variable\n",
    "plt.figure(figsize=(10, 6))\n",
    "sns.kdeplot(cc_customers['CCAvg'], fill=True, color='blue')\n",
    "plt.title('Density Curve of CCAvg for Customers with Credit Cards')\n",
    "plt.xlabel('Average Credit Card Spending (CCAvg)')\n",
    "plt.ylabel('Density')\n",
    "plt.grid(True)\n",
    "plt.show()"
   ]
  },
  {
   "cell_type": "markdown",
   "id": "d082764f",
   "metadata": {},
   "source": [
    "15. Do you see any outliers in the dataset? If yes, what plot you would think will be suitable to showcase to the stakeholders?"
   ]
  },
  {
   "cell_type": "markdown",
   "id": "c854fec2",
   "metadata": {},
   "source": [
    "Answer : As per the below box plot, it shows the Outliers in the dataset. Box plot will be suitable to showcase to the stakeholders. However, Scatter Plot is valuable when comparing outliers in one variable with another variable."
   ]
  },
  {
   "cell_type": "code",
   "execution_count": 87,
   "id": "8347e63e",
   "metadata": {},
   "outputs": [
    {
     "data": {
      "image/png": "[encoded data removed]",
      "text/plain": [
       "<Figure size 1000x600 with 1 Axes>"
      ]
     },
     "metadata": {},
     "output_type": "display_data"
    }
   ],
   "source": [
    "plt.figure(figsize=(10, 6))\n",
    "sns.boxplot(y=df['Income'])\n",
    "plt.title('Box Plot of Income')\n",
    "plt.ylabel('Income')\n",
    "plt.show()"
   ]
  },
  {
   "cell_type": "markdown",
   "id": "771f4ee3",
   "metadata": {},
   "source": [
    "16. Give us the decile values of the variable ‘Income’ in the dataset."
   ]
  },
  {
   "cell_type": "code",
   "execution_count": 54,
   "id": "1c38bfd3",
   "metadata": {},
   "outputs": [
    {
     "name": "stdout",
     "output_type": "stream",
     "text": [
      "Decile values for the 'Income' variable:\n",
      "0.1     22.0\n",
      "0.2     33.0\n",
      "0.3     42.0\n",
      "0.4     52.0\n",
      "0.5     64.0\n",
      "0.6     78.0\n",
      "0.7     88.3\n",
      "0.8    113.0\n",
      "0.9    145.0\n",
      "Name: Income, dtype: float64\n"
     ]
    }
   ],
   "source": [
    "# Answer :\n",
    "\n",
    "deciles = df['Income'].quantile([i/10 for i in range(1, 10)])\n",
    "\n",
    "print(\"Decile values for the 'Income' variable:\")\n",
    "print(deciles)"
   ]
  },
  {
   "cell_type": "markdown",
   "id": "5a5831b4",
   "metadata": {},
   "source": [
    "17. Give the IQR of all the variables which are quantitative and continuous."
   ]
  },
  {
   "cell_type": "code",
   "execution_count": 55,
   "id": "7066f206",
   "metadata": {},
   "outputs": [
    {
     "name": "stdout",
     "output_type": "stream",
     "text": [
      "Age            20.0\n",
      "Experience     20.0\n",
      "Income         59.0\n",
      "Family          2.0\n",
      "CCAvg           1.8\n",
      "Mortgage      101.0\n",
      "dtype: float64\n"
     ]
    }
   ],
   "source": [
    "# Answer :\n",
    "\n",
    "Q3 = df_int_new.quantile(.75)\n",
    "Q1 = df_int_new.quantile(.25)\n",
    "\n",
    "IQR = Q3-Q1\n",
    "print(IQR)"
   ]
  },
  {
   "cell_type": "markdown",
   "id": "eb5d1600",
   "metadata": {},
   "source": [
    "18. Do the higher-income holders spend more on credit cards?"
   ]
  },
  {
   "cell_type": "markdown",
   "id": "1a0ac9fe",
   "metadata": {},
   "source": [
    "Answer : Below code & plot shows the correlation coefficient suggests a moderate to strong positive correlation. \n",
    "         This means that there is a fairly strong association between income and credit card spending. \n",
    "         Higher-income individuals are likely to spend more on credit cards."
   ]
  },
  {
   "cell_type": "code",
   "execution_count": 57,
   "id": "8a2f9d50",
   "metadata": {},
   "outputs": [
    {
     "data": {
      "text/html": [
       "<div>\n",
       "<style scoped>\n",
       "    .dataframe tbody tr th:only-of-type {\n",
       "        vertical-align: middle;\n",
       "    }\n",
       "\n",
       "    .dataframe tbody tr th {\n",
       "        vertical-align: top;\n",
       "    }\n",
       "\n",
       "    .dataframe thead th {\n",
       "        text-align: right;\n",
       "    }\n",
       "</style>\n",
       "<table border=\"1\" class=\"dataframe\">\n",
       "  <thead>\n",
       "    <tr style=\"text-align: right;\">\n",
       "      <th></th>\n",
       "      <th>Income</th>\n",
       "      <th>CCAvg</th>\n",
       "    </tr>\n",
       "  </thead>\n",
       "  <tbody>\n",
       "    <tr>\n",
       "      <th>Income</th>\n",
       "      <td>1.000000</td>\n",
       "      <td>0.645984</td>\n",
       "    </tr>\n",
       "    <tr>\n",
       "      <th>CCAvg</th>\n",
       "      <td>0.645984</td>\n",
       "      <td>1.000000</td>\n",
       "    </tr>\n",
       "  </tbody>\n",
       "</table>\n",
       "</div>"
      ],
      "text/plain": [
       "          Income     CCAvg\n",
       "Income  1.000000  0.645984\n",
       "CCAvg   0.645984  1.000000"
      ]
     },
     "execution_count": 57,
     "metadata": {},
     "output_type": "execute_result"
    }
   ],
   "source": [
    "df.iloc[:,[3,6]].corr()"
   ]
  },
  {
   "cell_type": "code",
   "execution_count": 59,
   "id": "f8f0ad95",
   "metadata": {},
   "outputs": [
    {
     "data": {
      "image/png": "[encoded data removed]",
      "text/plain": [
       "<Figure size 1000x600 with 1 Axes>"
      ]
     },
     "metadata": {},
     "output_type": "display_data"
    }
   ],
   "source": [
    "X = df[['Income']]  # Independent variable\n",
    "y = df['CCAvg']  # Dependent variable\n",
    "\n",
    "# Fit the linear regression model\n",
    "model = LinearRegression()\n",
    "model.fit(X, y)\n",
    "\n",
    "# Predict values\n",
    "df['Predicted_CCAvg'] = model.predict(X)\n",
    "\n",
    "# Plotting\n",
    "plt.figure(figsize=(10, 6))\n",
    "sns.scatterplot(x='Income', y='CCAvg', data=df, label='Actual Data')\n",
    "plt.plot(df['Income'], df['Predicted_CCAvg'], color='red', label='Fitted Line')\n",
    "plt.title('Scatter Plot with Linear Regression Line')\n",
    "plt.xlabel('Income')\n",
    "plt.ylabel('CCAvg')\n",
    "plt.legend()\n",
    "plt.show()"
   ]
  },
  {
   "cell_type": "markdown",
   "id": "3ce3902c",
   "metadata": {},
   "source": [
    "19. How many customers use online banking? Do customers using bank internet facilities have higher incomes?"
   ]
  },
  {
   "cell_type": "code",
   "execution_count": 60,
   "id": "dd39c431",
   "metadata": {},
   "outputs": [
    {
     "data": {
      "text/plain": [
       "Online\n",
       "1    2984\n",
       "0    2016\n",
       "Name: count, dtype: int64"
      ]
     },
     "execution_count": 60,
     "metadata": {},
     "output_type": "execute_result"
    }
   ],
   "source": [
    "# Answer : In the below '1' indicates the use of online banking hence, 2984 customers use online banking.\n",
    "\n",
    "df.Online.value_counts()"
   ]
  },
  {
   "cell_type": "code",
   "execution_count": 63,
   "id": "ba4e168e",
   "metadata": {},
   "outputs": [
    {
     "name": "stdout",
     "output_type": "stream",
     "text": [
      "Mean Income of Online Banking Users: 74.31\n",
      "Mean Income of Non-Online Banking Users: 72.98\n",
      "T-statistic: 1.01\n",
      "P-value: 0.3136\n",
      "There is no statistically significant difference in incomes between online and offline banking users.\n"
     ]
    }
   ],
   "source": [
    "import scipy.stats as stats\n",
    "\n",
    "online_customers = df[df['Online'] == 1]['Income']\n",
    "offline_customers = df[df['Online'] == 0]['Income']\n",
    "\n",
    "mean_online = online_customers.mean()\n",
    "mean_offline = offline_customers.mean()\n",
    "\n",
    "print(f\"Mean Income of Online Banking Users: {mean_online:.2f}\")\n",
    "print(f\"Mean Income of Non-Online Banking Users: {mean_offline:.2f}\")\n",
    "\n",
    "t_stat, p_value = stats.ttest_ind(online_customers, offline_customers, equal_var=False)\n",
    "\n",
    "print(f\"T-statistic: {t_stat:.2f}\")\n",
    "print(f\"P-value: {p_value:.4f}\")\n",
    "\n",
    "if p_value < 0.05:\n",
    "    print(\"The difference in incomes between online and offline banking users is statistically significant.\")\n",
    "else:\n",
    "    print(\"There is no statistically significant difference in incomes between online and offline banking users.\")"
   ]
  },
  {
   "cell_type": "markdown",
   "id": "180a6ea8",
   "metadata": {},
   "source": [
    "20. Using the z-score of the income variable, find out the number of observations outside the +-3σ."
   ]
  },
  {
   "cell_type": "code",
   "execution_count": 72,
   "id": "c652a189",
   "metadata": {},
   "outputs": [
    {
     "name": "stdout",
     "output_type": "stream",
     "text": [
      "Number of observations outside ±3σ: 2\n"
     ]
    }
   ],
   "source": [
    "# Answer : \n",
    "mean_income = df['Income'].mean()\n",
    "std_dev_income = df['Income'].std()\n",
    "\n",
    "df['Z_Score'] = (df['Income'] - mean_income) / std_dev_income\n",
    "\n",
    "outliers = df[(df['Z_Score'] < -3) | (df['Z_Score'] > 3)]\n",
    "num_outliers = outliers.shape[0]\n",
    "\n",
    "print(f\"Number of observations outside ±3σ: {num_outliers}\")"
   ]
  },
  {
   "cell_type": "code",
   "execution_count": 73,
   "id": "1fd30246",
   "metadata": {},
   "outputs": [
    {
     "data": {
      "image/png": "[encoded data removed]",
      "text/plain": [
       "<Figure size 640x480 with 1 Axes>"
      ]
     },
     "metadata": {},
     "output_type": "display_data"
    }
   ],
   "source": [
    "sns.boxplot(df['Z_Score'])\n",
    "plt.title('Box plot')\n",
    "plt.show()"
   ]
  },
  {
   "cell_type": "code",
   "execution_count": null,
   "id": "d9685d03",
   "metadata": {},
   "outputs": [],
   "source": []
  }
 ],
 "metadata": {
  "kernelspec": {
   "display_name": "Python 3 (ipykernel)",
   "language": "python",
   "name": "python3"
  },
  "language_info": {
   "codemirror_mode": {
    "name": "ipython",
    "version": 3
   },
   "file_extension": ".py",
   "mimetype": "text/x-python",
   "name": "python",
   "nbconvert_exporter": "python",
   "pygments_lexer": "ipython3",
   "version": "3.11.5"
  }
 },
 "nbformat": 4,
 "nbformat_minor": 5
}
